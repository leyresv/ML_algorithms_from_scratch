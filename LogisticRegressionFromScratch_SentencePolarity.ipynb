{
  "nbformat": 4,
  "nbformat_minor": 0,
  "metadata": {
    "colab": {
      "provenance": []
    },
    "kernelspec": {
      "name": "python3",
      "display_name": "Python 3"
    },
    "language_info": {
      "name": "python"
    }
  },
  "cells": [
    {
      "cell_type": "markdown",
      "source": [
        "# Logistic Regression\n",
        "\n",
        "---\n",
        "\n",
        "# $$ h(x_i, θ) = \\frac{1}{1 + e^{-θ^Tx_i}}  $$\n",
        "\n",
        "---\n",
        "\n",
        "\n",
        "In Linear Regresssion, the output is the weighted sum of inputs.\n",
        "*   Linear Regression Equation: $ h(x) = θ^T x =\\theta_0 x_0 + \\theta_1 x_1 + \\theta_2 x_2 + ... \\theta_m x_m$\n",
        "*   Input featues vector for a single sequence: $ x_i $\n",
        "*   Weights vector: $ θ$\n",
        "\n",
        "In Logistic Regression, we pass the Linear Regression output through a sigmoid function, that can map any real value between 0 and 1.\n",
        "*   Sigmoid function: $ σ(x) = \\frac{1}{1 + e^{-x}}  $\n",
        "*   Logistic Regression Equation: $ h(x_i) = σ( θ^T x_i)= \\left\\{\\begin{matrix}\n",
        " \\geq 0.5, & if & \\theta^Tx_i > 0\n",
        " \\\\< 0.5, & if & \\theta^Tx_i <  0\n",
        "\\end{matrix}\\right. $\n",
        "\n",
        "\n",
        "\n",
        "\n",
        "\n"
      ],
      "metadata": {
        "id": "lJjJpbwcPi1F"
      }
    },
    {
      "cell_type": "code",
      "execution_count": 2,
      "metadata": {
        "id": "rn1dxMQj77AF"
      },
      "outputs": [],
      "source": [
        "import numpy as np\n",
        "\n",
        "def sigmoid(X, theta):\n",
        "    \"\"\"\n",
        "    Sigmoid function for logistic regression\n",
        "\n",
        "    :param X: input features. Numpy array of shape (m, n+1) (m=number of input sequences, n=number of features + 1 for bias)\n",
        "    :param theta: weights vector. Numpy array of shape (n+1, 1)\n",
        "    :return: logistic regression over X. Numpy array of shape (m, 1)\n",
        "    \"\"\"\n",
        "    return 1.0 / (1.0 + np.exp(-np.dot(X, theta)))"
      ]
    },
    {
      "cell_type": "markdown",
      "source": [
        "# Cost function: log loss\n",
        "\n",
        "Log loss for a single training example:\n",
        "$$Loss = -1\\cdot[{\\color{DarkGreen} {y_i \\cdot log(p_i)}} + {\\color{Red} {(1-y_i)\\cdot log(1-p_i)}}] $$\n",
        "* Gold label: $y_i$\n",
        "* Predicted probability for seq $x_i$ (between 0 and 1): $h(x_i, θ)$ => The logs will be negative (we add a small value to avoid log(0)):\n",
        "$\\left\\{\\begin{matrix} log(0.0001)=-4 \\\\\n",
        " log(0.5)=-0.3\\\\\n",
        " log(1)=0\n",
        "\\end{matrix}\\right. $\n",
        "\n",
        "* First term: probability of 1: ${\\color{DarkGreen} {p_i = h(x_i, \\theta)}}$\n",
        "* Second term: probability of 0: ${\\color{Red} {1-p_i=1-h(x_i, \\theta)}}$\n",
        "\n",
        "\n",
        "\\begin{vmatrix}\n",
        " y_i & \n",
        " {\\color{DarkGreen}{p_i}} & \n",
        " log({\\color{DarkGreen}{p_i}}) & \n",
        " y_i⋅log({\\color{DarkGreen}{p_i}}) & \n",
        " {\\color{Red} {1-p_i}} &\n",
        " log({\\color{Red} {1-p_i}}) & \n",
        " (1-y_i)⋅log({\\color{Red} {1-p_i}}) & \n",
        " y_i⋅log({\\color{DarkGreen}{p_i}}) + (1-y_i)⋅log({\\color{Red} {1-p_i}}) & \n",
        " loss   \\\\\n",
        "{\\color{DarkGreen}1}&{\\color{DarkGreen}{0.9999}}&\\sim0&\\sim0&0.0001&-4&0&\\sim0&\\sim0\\\\\n",
        "{\\color{DarkGreen}1}&{\\color{Red}{0.0001}}&-4&-4&0.9999&\\sim0&0&-4&4\\\\\n",
        "{\\color{Red}0}&{\\color{DarkGreen}{0.9999}}&\\sim0&\\sim0&0.0001&-4&-4&-4&4\\\\\n",
        "{\\color{Red}0}&{\\color{Red}{0.0001}}&-4&0&0.9999&\\sim0&\\sim0&\\sim\n",
        "0&\\sim0\\\\\n",
        "\\end{vmatrix}\n",
        "\n",
        "\n",
        "The cost function used for logistic regression is the average of the log loss across all training examples:\n",
        "\n",
        "$$J(\\theta) = -\\frac{1}{m}\\sum_{i=1}^{m}[{\\color{DarkGreen} {y_i \\cdot log(h(x_i, \\theta))}} + {\\color{Red} {(1-y_i)\\cdot log(1-h(x_i, \\theta))}}] $$\n",
        "* Number of training examples: $m$\n"
      ],
      "metadata": {
        "id": "C-a76TvWJ6XB"
      }
    },
    {
      "cell_type": "code",
      "source": [
        "def cost(Y_prob, Y):\n",
        "    \"\"\"\n",
        "    Compute the log loss between predicted labels and gold labels\n",
        "\n",
        "    :param Y_prob: predicted probabilities. Numpy array of shape (m, 1) (m= number of labels)\n",
        "    :param Y: true labels. Numpy array of shape (m, 1)\n",
        "    :return: cost value (float)\n",
        "    \"\"\"\n",
        "    return float(-(np.dot(Y.T, np.log(Y_prob)) + np.dot((1-Y).T, np.log(1 - Y_prob)))/Y.shape[0])\n"
      ],
      "metadata": {
        "id": "ZmxWoVKdJ9lC"
      },
      "execution_count": 3,
      "outputs": []
    },
    {
      "cell_type": "markdown",
      "source": [
        "# Weights update: Gradient descent\n",
        "\n",
        "We update the weight $\\theta_j$ by subtracting a fraction of the gradient determined by $\\alpha$: $\\left\\{\\begin{matrix}\n",
        "\\theta_j = \\theta_j - \\alpha \\times \\nabla_{\\theta_j}J(\\theta) \\\\\n",
        "\\nabla_{\\theta_j}J(\\theta) = \\frac{1}{m} \\sum_{i=1}^m(h_i-y_i)x_j \n",
        "\\end{matrix}\\right. $\n",
        "* $i$ is the index across all $m$ training examples.\n",
        "* $j$ is the index of the weight $\\theta_j$, so $x_j$ is the feature associated with weight $\\theta_j$\n",
        "\n",
        "---\n",
        "$$\\mathbf{\\theta} = \\mathbf{\\theta} - \\frac{\\alpha}{m} \\times \\left( \\mathbf{X}^T \\cdot \\left( \\mathbf{Y_{prob}-Y} \\right) \\right)$$\n",
        "\n",
        "---\n",
        "\n",
        "* weights vector: $θ$, with dimensions $(n+1, 1)$\n",
        "* lerning rate: $α$\n",
        "* number of training examples: $m$\n",
        "* training examples: $X$, with dimensions $(m, n+1)$\n",
        "* training labels: $Y$, with dimensions $(m, 1)$\n",
        "* predicted labels (probabilities): $Y_{prob}$"
      ],
      "metadata": {
        "id": "fs1p-iLbyroL"
      }
    },
    {
      "cell_type": "code",
      "source": [
        "def gradient_descent(X, Y, Y_prob, theta, alpha):\n",
        "    \"\"\"\n",
        "    Update the weights vector\n",
        "\n",
        "    :param X: training features. Numpy array of shape (m, n+1) (m=number of training sequences, n=number of features + 1 for bias)\n",
        "    :param Y: training labels. Numpy array of shape (m, 1)\n",
        "    :param Y_prob: predicted probabilities. Numpy array of shape (m, 1)\n",
        "    :param theta: weights vector. Numpy array of shape (n+1, 1)\n",
        "    :param alpha: learning rate. Float\n",
        "    :return: updated weight vector\n",
        "    \"\"\"\n",
        "    return theta - alpha/ X.shape[0] * np.dot(X.T, Y_prob-Y) "
      ],
      "metadata": {
        "id": "425ID-ZNdn8e"
      },
      "execution_count": 4,
      "outputs": []
    },
    {
      "cell_type": "markdown",
      "source": [
        "# Data preprocessing"
      ],
      "metadata": {
        "id": "aFOvp_OUybDA"
      }
    },
    {
      "cell_type": "code",
      "source": [
        "import nltk\n",
        "import string\n",
        "import matplotlib.pyplot as plt\n",
        "from nltk.corpus import sentence_polarity, stopwords\n",
        "from nltk.stem import WordNetLemmatizer\n",
        "\n",
        "# Download nltk resources\n",
        "nltk.download(\"sentence_polarity\")\n",
        "nltk.download('wordnet')\n",
        "nltk.download('omw-1.4')\n",
        "nltk.download(\"stopwords\")\n",
        "nltk.download(\"punkt\")"
      ],
      "metadata": {
        "colab": {
          "base_uri": "https://localhost:8080/"
        },
        "id": "BvZQL25jym64",
        "outputId": "160b22f9-5c21-4ee2-b9c0-78631fa13e45"
      },
      "execution_count": 5,
      "outputs": [
        {
          "output_type": "stream",
          "name": "stderr",
          "text": [
            "[nltk_data] Downloading package sentence_polarity to\n",
            "[nltk_data]     /root/nltk_data...\n",
            "[nltk_data]   Package sentence_polarity is already up-to-date!\n",
            "[nltk_data] Downloading package wordnet to /root/nltk_data...\n",
            "[nltk_data]   Package wordnet is already up-to-date!\n",
            "[nltk_data] Downloading package omw-1.4 to /root/nltk_data...\n",
            "[nltk_data]   Package omw-1.4 is already up-to-date!\n",
            "[nltk_data] Downloading package stopwords to /root/nltk_data...\n",
            "[nltk_data]   Package stopwords is already up-to-date!\n",
            "[nltk_data] Downloading package punkt to /root/nltk_data...\n",
            "[nltk_data]   Package punkt is already up-to-date!\n"
          ]
        },
        {
          "output_type": "execute_result",
          "data": {
            "text/plain": [
              "True"
            ]
          },
          "metadata": {},
          "execution_count": 5
        }
      ]
    },
    {
      "cell_type": "code",
      "source": [
        "# Import dataset\n",
        "pos_ids = sentence_polarity.fileids('pos')\n",
        "neg_ids = sentence_polarity.fileids('neg')\n",
        "pos_sentences = sentence_polarity.sents(pos_ids)\n",
        "neg_sentences = sentence_polarity.sents(neg_ids)\n",
        "pos_sentences, len(pos_sentences), len(neg_sentences), "
      ],
      "metadata": {
        "colab": {
          "base_uri": "https://localhost:8080/"
        },
        "id": "Q_iKGU_r5haS",
        "outputId": "016437ae-aa69-4b94-e3f9-b805a186ac04"
      },
      "execution_count": 6,
      "outputs": [
        {
          "output_type": "execute_result",
          "data": {
            "text/plain": [
              "([['the', 'rock', 'is', 'destined', 'to', 'be', 'the', '21st', \"century's\", 'new', '\"', 'conan', '\"', 'and', 'that', \"he's\", 'going', 'to', 'make', 'a', 'splash', 'even', 'greater', 'than', 'arnold', 'schwarzenegger', ',', 'jean-claud', 'van', 'damme', 'or', 'steven', 'segal', '.'], ['the', 'gorgeously', 'elaborate', 'continuation', 'of', '\"', 'the', 'lord', 'of', 'the', 'rings', '\"', 'trilogy', 'is', 'so', 'huge', 'that', 'a', 'column', 'of', 'words', 'cannot', 'adequately', 'describe', 'co-writer/director', 'peter', \"jackson's\", 'expanded', 'vision', 'of', 'j', '.', 'r', '.', 'r', '.', \"tolkien's\", 'middle-earth', '.'], ...],\n",
              " 5331,\n",
              " 5331)"
            ]
          },
          "metadata": {},
          "execution_count": 6
        }
      ]
    },
    {
      "cell_type": "code",
      "source": [
        "# Split train/test\n",
        "train_pos, train_neg = pos_sentences[:4500], neg_sentences[:4500]\n",
        "test_pos, test_neg = pos_sentences[4500:], neg_sentences[4500:]\n",
        "train_sentences  = train_pos + train_neg\n",
        "test_sentences = test_pos + test_neg\n",
        "len(train_sentences), len(test_sentences)"
      ],
      "metadata": {
        "colab": {
          "base_uri": "https://localhost:8080/"
        },
        "id": "sDtT6-uBd2R_",
        "outputId": "45af75d6-acea-4e26-d90b-f5fc44410a95"
      },
      "execution_count": 7,
      "outputs": [
        {
          "output_type": "execute_result",
          "data": {
            "text/plain": [
              "(9000, 1662)"
            ]
          },
          "metadata": {},
          "execution_count": 7
        }
      ]
    },
    {
      "cell_type": "code",
      "source": [
        "# Create sentiment labels\n",
        "Y_train = np.append(np.ones((len(train_pos), 1)), np.zeros((len(train_neg), 1)), axis=0)\n",
        "Y_test = np.append(np.ones((len(test_pos), 1)), np.zeros((len(test_neg), 1)), axis=0)\n",
        "Y_train.shape, Y_test.shape"
      ],
      "metadata": {
        "colab": {
          "base_uri": "https://localhost:8080/"
        },
        "id": "G908syFNyoso",
        "outputId": "f829afe9-a702-47b3-acaa-a8398be8bbdc"
      },
      "execution_count": 8,
      "outputs": [
        {
          "output_type": "execute_result",
          "data": {
            "text/plain": [
              "((9000, 1), (1662, 1))"
            ]
          },
          "metadata": {},
          "execution_count": 8
        }
      ]
    },
    {
      "cell_type": "code",
      "source": [
        "def process_sentence(sentence):  \n",
        "    \"\"\"\n",
        "    Remove stopwords, punctuations and lemmatize\n",
        "\n",
        "    :param sentence: Input sentence (String)\n",
        "    :return: tokenized sentence (list)\n",
        "    \"\"\" \n",
        "    stopwords_eng = stopwords.words(\"english\")\n",
        "    lemmatizer = WordNetLemmatizer()\n",
        "    clean_sentence = [lemmatizer.lemmatize(token) for token in sentence if token not in stopwords_eng and token not in string.punctuation]\n",
        "    return clean_sentence"
      ],
      "metadata": {
        "id": "CXaA5zcpzaqR"
      },
      "execution_count": 9,
      "outputs": []
    },
    {
      "cell_type": "code",
      "source": [
        "def create_word_freqs_dict(sentences, labels):\n",
        "    \"\"\"\n",
        "    Create frequencies dictionary\n",
        "\n",
        "    :param sentences: list of sentences\n",
        "    :param labels: list of sentences' labels (0 or 1)\n",
        "    :return: vocabulary frequencies dictionary\n",
        "    \"\"\"\n",
        "    tok_sentences = [process_sentence(sentence) for sentence in sentences]\n",
        "    word_freqs = {}\n",
        "    for sentence, label in zip(tok_sentences, labels):\n",
        "        for word in sentence:\n",
        "            if not (word, label[0]) in word_freqs:\n",
        "                word_freqs[(word, label[0])] = 0\n",
        "            word_freqs[(word, label[0])] += 1\n",
        "\n",
        "    sorted_word_freq = sorted(word_freqs.items(), key=lambda x:x[1], reverse=True)\n",
        "    for item in sorted_word_freq[:10]:\n",
        "        print(item)\n",
        "    # return dictionary sorted by values \n",
        "    return dict(sorted_word_freq)"
      ],
      "metadata": {
        "id": "ZcgLnJT1zxfn"
      },
      "execution_count": 10,
      "outputs": []
    },
    {
      "cell_type": "code",
      "source": [
        "vocab_dict = create_word_freqs_dict(train_sentences, Y_train)"
      ],
      "metadata": {
        "colab": {
          "base_uri": "https://localhost:8080/"
        },
        "id": "HnPJ45Nyzz-S",
        "outputId": "346a5a6e-493d-48b2-b6a7-e3674293940e"
      },
      "execution_count": 11,
      "outputs": [
        {
          "output_type": "stream",
          "name": "stdout",
          "text": [
            "(('film', 1.0), 771)\n",
            "(('movie', 0.0), 728)\n",
            "(('film', 0.0), 601)\n",
            "(('movie', 1.0), 528)\n",
            "(('like', 0.0), 377)\n",
            "(('one', 0.0), 313)\n",
            "(('one', 1.0), 307)\n",
            "(('--', 0.0), 269)\n",
            "(('--', 1.0), 267)\n",
            "(('make', 1.0), 252)\n"
          ]
        }
      ]
    },
    {
      "cell_type": "code",
      "source": [
        "def extract_freq_feature(sentences, vocab):\n",
        "    \"\"\"\n",
        "    Create frequency features vector for each sequence\n",
        "\n",
        "    :param sentences: input sentences (list of strings)\n",
        "    :param vocab: vocabulary frequencies dictionary\n",
        "    :return: numpy array of frequency freatures vectors\n",
        "    \"\"\"\n",
        "    freq_feature = []\n",
        "    for sentence in sentences:\n",
        "        sentence = process_sentence(sentence)\n",
        "        pos = 0\n",
        "        neg = 0\n",
        "        # Ignore repeated words\n",
        "        for word in list(set(sentence)):\n",
        "            pos += vocab.get((word, 1), 0)\n",
        "            neg += vocab.get((word, 0), 0)\n",
        "        # Add 1 for bias\n",
        "        freq_feature.append([1, pos, neg])\n",
        "    return np.array(freq_feature)"
      ],
      "metadata": {
        "id": "bSazWeCAz4EZ"
      },
      "execution_count": 12,
      "outputs": []
    },
    {
      "cell_type": "code",
      "source": [
        "# Extract frequency features for train and test set\n",
        "X_train = extract_freq_feature(train_sentences, vocab_dict)\n",
        "X_test = extract_freq_feature(test_sentences, vocab_dict)\n",
        "X_train, X_train.shape"
      ],
      "metadata": {
        "colab": {
          "base_uri": "https://localhost:8080/"
        },
        "id": "LOy14SiOz7hP",
        "outputId": "21bfe22e-f622-4767-b6e3-264201b3e652"
      },
      "execution_count": 13,
      "outputs": [
        {
          "output_type": "execute_result",
          "data": {
            "text/plain": [
              "(array([[   1,  618,  582],\n",
              "        [   1,  121,   84],\n",
              "        [   1,   25,    7],\n",
              "        ...,\n",
              "        [   1,  947, 1080],\n",
              "        [   1,  225,  218],\n",
              "        [   1,    7,   25]]), (9000, 3))"
            ]
          },
          "metadata": {},
          "execution_count": 13
        }
      ]
    },
    {
      "cell_type": "code",
      "source": [
        "# Plot the samples using columns 1 and 2 of the matrix\n",
        "fig, ax = plt.subplots(figsize = (8,8))\n",
        "plt.ylim(0, 2000)\n",
        "plt.xlim(0, 2000)\n",
        "\n",
        "colors = ['red', 'green']\n",
        "\n",
        "# Color based on the sentiment Y\n",
        "ax.scatter(X_train[:,1], X_train[:,2], c=[colors[int(k)] for k in Y_train], s = 0.1)  # Plot a dot for each pair of words\n",
        "plt.xlabel(\"Positive\")\n",
        "plt.ylabel(\"Negative\")"
      ],
      "metadata": {
        "colab": {
          "base_uri": "https://localhost:8080/",
          "height": 518
        },
        "id": "0SP9GLER8fQz",
        "outputId": "1ea28467-8254-4141-9ef0-6592a6e9d99f"
      },
      "execution_count": 14,
      "outputs": [
        {
          "output_type": "execute_result",
          "data": {
            "text/plain": [
              "Text(0, 0.5, 'Negative')"
            ]
          },
          "metadata": {},
          "execution_count": 14
        },
        {
          "output_type": "display_data",
          "data": {
            "text/plain": [
              "<Figure size 576x576 with 1 Axes>"
            ],
            "image/png": "[encoded data removed]"
          },
          "metadata": {
            "needs_background": "light"
          }
        }
      ]
    },
    {
      "cell_type": "markdown",
      "source": [
        "# Training the classifier"
      ],
      "metadata": {
        "id": "aVDiwMKw0ErS"
      }
    },
    {
      "cell_type": "code",
      "source": [
        "def train(X, Y, theta, alpha, num_iters):  \n",
        "    \"\"\"\n",
        "    Train the logistic regression classifier on the provided X sequences\n",
        "\n",
        "    :param X: training features. Numpy array of shape (m, n+1) (m=number of training sequences, n=number of features + 1 for bias)\n",
        "    :param Y: training labels. Numpy array of shape (m, 1)\n",
        "    :param theta: weights vector. Numpy array of shape (n+1, 1)\n",
        "    :param alpha: learning rate (float)\n",
        "    :param num_iters: number of training iterations (int)\n",
        "    :return: training cost and weights vector\n",
        "    \"\"\"  \n",
        "    for i in range(num_iters):\n",
        "        Y_prob = sigmoid(X, theta) #Prob for list of sequences\n",
        "        J = cost(Y_prob, Y)\n",
        "        theta = gradient_descent(X, Y, Y_prob, theta, alpha)\n",
        "    return J, theta"
      ],
      "metadata": {
        "id": "1d_jZl8v0Lc4"
      },
      "execution_count": 21,
      "outputs": []
    },
    {
      "cell_type": "code",
      "source": [
        "J, theta = train(X_train, Y_train, np.zeros((X_train.shape[1],1)), 5e-6, 500)\n",
        "print(f\"The cost after training is {J:.8f}.\")\n",
        "print(f\"The resulting vector of weights is {[round(t, 8) for t in np.squeeze(theta)]}\")"
      ],
      "metadata": {
        "colab": {
          "base_uri": "https://localhost:8080/"
        },
        "id": "XvWeRNxjzTH3",
        "outputId": "93e87541-5e75-4fa6-9d14-9fbfdc130d0d"
      },
      "execution_count": 16,
      "outputs": [
        {
          "output_type": "stream",
          "name": "stdout",
          "text": [
            "The cost after training is 0.61180369.\n",
            "The resulting vector of weights is [-1.138e-05, 0.00663736, -0.00655337]\n"
          ]
        }
      ]
    },
    {
      "cell_type": "markdown",
      "source": [
        "# Evaluating the model"
      ],
      "metadata": {
        "id": "PoLNDAG6GZgy"
      }
    },
    {
      "cell_type": "code",
      "source": [
        "def predict(X, theta):\n",
        "    \"\"\"\n",
        "    Predict polarity labels for the input sequences X (0=Negative, 1=Positive)\n",
        "\n",
        "    :param X: input sequences. Numpy array of features with shape (m, n+1) (m=number of input sequences, n=number of features + 1 for bias)\n",
        "    :param theta: weights vector. Numpy array of shape (n+1, 1)                                                                        \n",
        "    :return: predicted labels. Numpy array of size (m, 1)\n",
        "    \"\"\"\n",
        "    return np.array([1 if sigmoid(x, theta) >= 0.5 else 0 for x in X])"
      ],
      "metadata": {
        "id": "9DHNDo7cGqeh"
      },
      "execution_count": 17,
      "outputs": []
    },
    {
      "cell_type": "code",
      "source": [
        "# Accuracy = number of correct predicions / total number of predictions\n",
        "def evaluate_accuracy(Y_gold, Y_pred):\n",
        "    \"\"\"\n",
        "    Evaluate accuracy of the predictions\n",
        "\n",
        "    :param Y_gold: actual labels. Numpy array of size (m, 1) (m=number of labels)\n",
        "    :param Y_pred: predicted labels. Numpy array of size m\n",
        "    :return: accuracy value (int)\n",
        "    \"\"\"\n",
        "    return sum([1 for y_gold, y_pred in zip(Y_gold, Y_pred) if y_gold==y_pred]) / len(Y_pred)"
      ],
      "metadata": {
        "id": "H93bAXJoAfqq"
      },
      "execution_count": 18,
      "outputs": []
    },
    {
      "cell_type": "code",
      "source": [
        "Y_pred = predict(X_test, theta)\n",
        "Y_pred"
      ],
      "metadata": {
        "colab": {
          "base_uri": "https://localhost:8080/"
        },
        "id": "nUPR-spjJJmr",
        "outputId": "a7ffeeee-16d7-4f37-ee28-71f63a5e6b75"
      },
      "execution_count": 19,
      "outputs": [
        {
          "output_type": "execute_result",
          "data": {
            "text/plain": [
              "array([1, 0, 1, ..., 1, 0, 0])"
            ]
          },
          "metadata": {},
          "execution_count": 19
        }
      ]
    },
    {
      "cell_type": "code",
      "source": [
        "evaluate_accuracy(Y_test, Y_pred)"
      ],
      "metadata": {
        "colab": {
          "base_uri": "https://localhost:8080/"
        },
        "id": "h0kGPICJa_l7",
        "outputId": "b481333a-3b5a-4d46-910f-75cfb4799d4c"
      },
      "execution_count": 20,
      "outputs": [
        {
          "output_type": "execute_result",
          "data": {
            "text/plain": [
              "0.6726835138387485"
            ]
          },
          "metadata": {},
          "execution_count": 20
        }
      ]
    },
    {
      "cell_type": "code",
      "source": [
        "# Visualize some test sentences and their classification\n",
        "for sentence, label, pred_label in zip(test_sentences[826:836], Y_test[826:836], Y_pred[826:836]):\n",
        "    print(\" \".join(sentence))\n",
        "    print(f\"Predicted label: {pred_label} ------- True label: {int(label[0])}\")\n",
        "    print()"
      ],
      "metadata": {
        "colab": {
          "base_uri": "https://localhost:8080/"
        },
        "id": "9Fmg-4ZJ07T4",
        "outputId": "19d47689-bf70-409e-8495-0c2f99c7fa81"
      },
      "execution_count": 26,
      "outputs": [
        {
          "output_type": "stream",
          "name": "stdout",
          "text": [
            "both exuberantly romantic and serenely melancholy , what time is it there ? may prove to be [tsai's] masterpiece .\n",
            "Predicted label: 1 ------- True label: 1\n",
            "\n",
            "mazel tov to a film about a family's joyous life acting on the yiddish stage .\n",
            "Predicted label: 1 ------- True label: 1\n",
            "\n",
            "standing in the shadows of motown is the best kind of documentary , one that makes a depleted yesterday feel very much like a brand-new tomorrow .\n",
            "Predicted label: 0 ------- True label: 1\n",
            "\n",
            "it's nice to see piscopo again after all these years , and chaykin and headly are priceless .\n",
            "Predicted label: 1 ------- True label: 1\n",
            "\n",
            "provides a porthole into that noble , trembling incoherence that defines us all .\n",
            "Predicted label: 1 ------- True label: 1\n",
            "\n",
            "the whole mess boils down to a transparently hypocritical work that feels as though it's trying to set the women's liberation movement back 20 years .\n",
            "Predicted label: 0 ------- True label: 0\n",
            "\n",
            "' . . . the cast portrays their cartoon counterparts well . . . but quite frankly , scoob and shag don't eat enough during the film . '\n",
            "Predicted label: 1 ------- True label: 0\n",
            "\n",
            "more of the same old garbage hollywood has been trying to pass off as acceptable teen entertainment for some time now .\n",
            "Predicted label: 0 ------- True label: 0\n",
            "\n",
            "tv skit-com material fervently deposited on the big screen .\n",
            "Predicted label: 0 ------- True label: 0\n",
            "\n",
            "[johnnie to and wai ka fai are] sure to find an enthusiastic audience among american action-adventure buffs , but the film's interests may be too narrow to attract crossover viewers .\n",
            "Predicted label: 1 ------- True label: 0\n",
            "\n"
          ]
        }
      ]
    }
  ]
}